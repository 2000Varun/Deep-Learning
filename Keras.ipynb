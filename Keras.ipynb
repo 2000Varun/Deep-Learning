{
 "cells": [
  {
   "cell_type": "code",
   "execution_count": null,
   "metadata": {},
   "outputs": [],
   "source": []
  },
  {
   "cell_type": "code",
   "execution_count": 2,
   "metadata": {},
   "outputs": [
    {
     "name": "stderr",
     "output_type": "stream",
     "text": [
      "Using TensorFlow backend.\n"
     ]
    }
   ],
   "source": [
    "from keras.models import Sequential\n",
    "from keras.layers import Dense"
   ]
  },
  {
   "cell_type": "code",
   "execution_count": 3,
   "metadata": {},
   "outputs": [],
   "source": [
    "#Creating a model\n",
    "model=Sequential()"
   ]
  },
  {
   "cell_type": "code",
   "execution_count": 4,
   "metadata": {},
   "outputs": [
    {
     "name": "stdout",
     "output_type": "stream",
     "text": [
      "WARNING:tensorflow:From C:\\Users\\Navee\\Anaconda3\\lib\\site-packages\\tensorflow\\python\\framework\\op_def_library.py:263: colocate_with (from tensorflow.python.framework.ops) is deprecated and will be removed in a future version.\n",
      "Instructions for updating:\n",
      "Colocations handled automatically by placer.\n"
     ]
    }
   ],
   "source": [
    "#Adding Layers\n",
    "#the first layer requires shape of the input data. By default biases are true\n",
    "layer1=Dense(units=32,activation='relu', input_dim=30)  #30 because shape of our data is(455,30)\n",
    "model.add(layer1)\n",
    "model.add(Dense(units=16, activation='relu'))\n",
    "model.add(Dense(units=1,activation='sigmoid'))"
   ]
  },
  {
   "cell_type": "code",
   "execution_count": 5,
   "metadata": {},
   "outputs": [],
   "source": [
    "#Compiling\n",
    "model.compile(optimizer=\"adam\", loss=\"binary_crossentropy\",metrics=['accuracy'])  #Loss can take other functions as well, since our dataset for this case was binary so we chose this as loss function"
   ]
  },
  {
   "cell_type": "code",
   "execution_count": 1,
   "metadata": {},
   "outputs": [],
   "source": [
    "from sklearn import datasets\n",
    "from sklearn.model_selection import train_test_split"
   ]
  },
  {
   "cell_type": "code",
   "execution_count": 2,
   "metadata": {},
   "outputs": [],
   "source": [
    "info=datasets.load_breast_cancer()\n",
    "X=info.data\n",
    "Y=info.target"
   ]
  },
  {
   "cell_type": "code",
   "execution_count": 3,
   "metadata": {},
   "outputs": [],
   "source": [
    "x_train,x_test,y_train,y_test = train_test_split(X,Y,test_size=0.2,random_state=0)"
   ]
  },
  {
   "cell_type": "code",
   "execution_count": 4,
   "metadata": {},
   "outputs": [
    {
     "data": {
      "text/plain": [
       "(455, 30)"
      ]
     },
     "execution_count": 4,
     "metadata": {},
     "output_type": "execute_result"
    }
   ],
   "source": [
    "x_train.shape"
   ]
  },
  {
   "cell_type": "code",
   "execution_count": 9,
   "metadata": {},
   "outputs": [],
   "source": [
    "from sklearn.preprocessing import StandardScaler\n",
    "sc=StandardScaler()\n",
    "x_train=sc.fit_transform(x_train)\n",
    "x_test=sc.transform(x_test)"
   ]
  },
  {
   "cell_type": "code",
   "execution_count": 10,
   "metadata": {},
   "outputs": [
    {
     "name": "stdout",
     "output_type": "stream",
     "text": [
      "WARNING:tensorflow:From C:\\Users\\Navee\\Anaconda3\\lib\\site-packages\\tensorflow\\python\\ops\\math_ops.py:3066: to_int32 (from tensorflow.python.ops.math_ops) is deprecated and will be removed in a future version.\n",
      "Instructions for updating:\n",
      "Use tf.cast instead.\n",
      "Train on 455 samples, validate on 114 samples\n",
      "Epoch 1/20\n",
      "455/455 [==============================] - 1s 3ms/step - loss: 0.6956 - acc: 0.5121 - val_loss: 0.5503 - val_acc: 0.8246\n",
      "Epoch 2/20\n",
      "455/455 [==============================] - 0s 85us/step - loss: 0.5106 - acc: 0.8308 - val_loss: 0.4091 - val_acc: 0.9386\n",
      "Epoch 3/20\n",
      "455/455 [==============================] - 0s 91us/step - loss: 0.3746 - acc: 0.9165 - val_loss: 0.3115 - val_acc: 0.9474\n",
      "Epoch 4/20\n",
      "455/455 [==============================] - 0s 84us/step - loss: 0.2817 - acc: 0.9297 - val_loss: 0.2495 - val_acc: 0.9386\n",
      "Epoch 5/20\n",
      "455/455 [==============================] - 0s 101us/step - loss: 0.2204 - acc: 0.9429 - val_loss: 0.2110 - val_acc: 0.9474\n",
      "Epoch 6/20\n",
      "455/455 [==============================] - 0s 95us/step - loss: 0.1808 - acc: 0.9538 - val_loss: 0.1828 - val_acc: 0.9386\n",
      "Epoch 7/20\n",
      "455/455 [==============================] - 0s 98us/step - loss: 0.1533 - acc: 0.9560 - val_loss: 0.1622 - val_acc: 0.9474\n",
      "Epoch 8/20\n",
      "455/455 [==============================] - 0s 92us/step - loss: 0.1329 - acc: 0.9670 - val_loss: 0.1460 - val_acc: 0.9474\n",
      "Epoch 9/20\n",
      "455/455 [==============================] - 0s 95us/step - loss: 0.1175 - acc: 0.9670 - val_loss: 0.1343 - val_acc: 0.9474\n",
      "Epoch 10/20\n",
      "455/455 [==============================] - 0s 88us/step - loss: 0.1062 - acc: 0.9670 - val_loss: 0.1266 - val_acc: 0.9474\n",
      "Epoch 11/20\n",
      "455/455 [==============================] - 0s 87us/step - loss: 0.0974 - acc: 0.9670 - val_loss: 0.1201 - val_acc: 0.9561\n",
      "Epoch 12/20\n",
      "455/455 [==============================] - 0s 92us/step - loss: 0.0906 - acc: 0.9736 - val_loss: 0.1167 - val_acc: 0.9561\n",
      "Epoch 13/20\n",
      "455/455 [==============================] - 0s 112us/step - loss: 0.0848 - acc: 0.9758 - val_loss: 0.1143 - val_acc: 0.9561\n",
      "Epoch 14/20\n",
      "455/455 [==============================] - 0s 93us/step - loss: 0.0803 - acc: 0.9758 - val_loss: 0.1128 - val_acc: 0.9561\n",
      "Epoch 15/20\n",
      "455/455 [==============================] - 0s 79us/step - loss: 0.0766 - acc: 0.9802 - val_loss: 0.1118 - val_acc: 0.9561\n",
      "Epoch 16/20\n",
      "455/455 [==============================] - 0s 100us/step - loss: 0.0729 - acc: 0.9802 - val_loss: 0.1114 - val_acc: 0.9561\n",
      "Epoch 17/20\n",
      "455/455 [==============================] - 0s 99us/step - loss: 0.0699 - acc: 0.9802 - val_loss: 0.1112 - val_acc: 0.9561\n",
      "Epoch 18/20\n",
      "455/455 [==============================] - 0s 129us/step - loss: 0.0670 - acc: 0.9824 - val_loss: 0.1109 - val_acc: 0.9561\n",
      "Epoch 19/20\n",
      "455/455 [==============================] - 0s 112us/step - loss: 0.0643 - acc: 0.9824 - val_loss: 0.1109 - val_acc: 0.9561\n",
      "Epoch 20/20\n",
      "455/455 [==============================] - 0s 117us/step - loss: 0.0619 - acc: 0.9824 - val_loss: 0.1112 - val_acc: 0.9561\n"
     ]
    },
    {
     "data": {
      "text/plain": [
       "<keras.callbacks.History at 0x217dcd1fe48>"
      ]
     },
     "execution_count": 10,
     "metadata": {},
     "output_type": "execute_result"
    }
   ],
   "source": [
    "model.fit(x_train,y_train,epochs=20,batch_size=40,validation_data=(x_test,y_test))     #Epoch is the number of iterations, by deafult batch_size is 32"
   ]
  },
  {
   "cell_type": "code",
   "execution_count": 17,
   "metadata": {},
   "outputs": [
    {
     "name": "stdout",
     "output_type": "stream",
     "text": [
      "114/114 [==============================] - 0s 49us/step\n"
     ]
    },
    {
     "data": {
      "text/plain": [
       "[0.11122662979259826, 0.9561403519228885]"
      ]
     },
     "execution_count": 17,
     "metadata": {},
     "output_type": "execute_result"
    }
   ],
   "source": [
    "pred=model.predict(x_test)\n",
    "score=model.evaluate(x_test,y_test)\n",
    "score"
   ]
  }
 ],
 "metadata": {
  "kernelspec": {
   "display_name": "Python 3",
   "language": "python",
   "name": "python3"
  },
  "language_info": {
   "codemirror_mode": {
    "name": "ipython",
    "version": 3
   },
   "file_extension": ".py",
   "mimetype": "text/x-python",
   "name": "python",
   "nbconvert_exporter": "python",
   "pygments_lexer": "ipython3",
   "version": "3.7.3"
  }
 },
 "nbformat": 4,
 "nbformat_minor": 2
}
