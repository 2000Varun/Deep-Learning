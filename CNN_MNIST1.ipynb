{
 "cells": [
  {
   "cell_type": "code",
   "execution_count": 1,
   "metadata": {
    "colab": {},
    "colab_type": "code",
    "id": "EcUYJqas6e78"
   },
   "outputs": [],
   "source": [
    "import tensorflow as tf"
   ]
  },
  {
   "cell_type": "code",
   "execution_count": 2,
   "metadata": {
    "colab": {},
    "colab_type": "code",
    "id": "jEobosnu6e8J"
   },
   "outputs": [],
   "source": [
    "from tensorflow.examples.tutorials.mnist import input_data"
   ]
  },
  {
   "cell_type": "code",
   "execution_count": 3,
   "metadata": {
    "colab": {
     "base_uri": "https://localhost:8080/",
     "height": 565
    },
    "colab_type": "code",
    "id": "_HuUx1Ae6e8S",
    "outputId": "0902f56a-2d22-43e7-e384-9a4e0838ec60"
   },
   "outputs": [
    {
     "name": "stdout",
     "output_type": "stream",
     "text": [
      "WARNING:tensorflow:From <ipython-input-3-0eda2f9c2d4a>:1: read_data_sets (from tensorflow.contrib.learn.python.learn.datasets.mnist) is deprecated and will be removed in a future version.\n",
      "Instructions for updating:\n",
      "Please use alternatives such as official/mnist/dataset.py from tensorflow/models.\n",
      "WARNING:tensorflow:From C:\\Users\\Navee\\Anaconda3\\lib\\site-packages\\tensorflow\\contrib\\learn\\python\\learn\\datasets\\mnist.py:260: maybe_download (from tensorflow.contrib.learn.python.learn.datasets.base) is deprecated and will be removed in a future version.\n",
      "Instructions for updating:\n",
      "Please write your own downloading logic.\n",
      "WARNING:tensorflow:From C:\\Users\\Navee\\Anaconda3\\lib\\site-packages\\tensorflow\\contrib\\learn\\python\\learn\\datasets\\mnist.py:262: extract_images (from tensorflow.contrib.learn.python.learn.datasets.mnist) is deprecated and will be removed in a future version.\n",
      "Instructions for updating:\n",
      "Please use tf.data to implement this functionality.\n",
      "Extracting MNIST_data/train-images-idx3-ubyte.gz\n",
      "WARNING:tensorflow:From C:\\Users\\Navee\\Anaconda3\\lib\\site-packages\\tensorflow\\contrib\\learn\\python\\learn\\datasets\\mnist.py:267: extract_labels (from tensorflow.contrib.learn.python.learn.datasets.mnist) is deprecated and will be removed in a future version.\n",
      "Instructions for updating:\n",
      "Please use tf.data to implement this functionality.\n",
      "Extracting MNIST_data/train-labels-idx1-ubyte.gz\n",
      "WARNING:tensorflow:From C:\\Users\\Navee\\Anaconda3\\lib\\site-packages\\tensorflow\\contrib\\learn\\python\\learn\\datasets\\mnist.py:110: dense_to_one_hot (from tensorflow.contrib.learn.python.learn.datasets.mnist) is deprecated and will be removed in a future version.\n",
      "Instructions for updating:\n",
      "Please use tf.one_hot on tensors.\n",
      "Extracting MNIST_data/t10k-images-idx3-ubyte.gz\n",
      "Extracting MNIST_data/t10k-labels-idx1-ubyte.gz\n",
      "WARNING:tensorflow:From C:\\Users\\Navee\\Anaconda3\\lib\\site-packages\\tensorflow\\contrib\\learn\\python\\learn\\datasets\\mnist.py:290: DataSet.__init__ (from tensorflow.contrib.learn.python.learn.datasets.mnist) is deprecated and will be removed in a future version.\n",
      "Instructions for updating:\n",
      "Please use alternatives such as official/mnist/dataset.py from tensorflow/models.\n"
     ]
    }
   ],
   "source": [
    "mnist=input_data.read_data_sets(\"MNIST_data/\",one_hot=True)"
   ]
  },
  {
   "cell_type": "code",
   "execution_count": 4,
   "metadata": {},
   "outputs": [
    {
     "data": {
      "text/plain": [
       "Datasets(train=<tensorflow.contrib.learn.python.learn.datasets.mnist.DataSet object at 0x00000273DB294240>, validation=<tensorflow.contrib.learn.python.learn.datasets.mnist.DataSet object at 0x00000273DE02F438>, test=<tensorflow.contrib.learn.python.learn.datasets.mnist.DataSet object at 0x00000273DE02F4E0>)"
      ]
     },
     "execution_count": 4,
     "metadata": {},
     "output_type": "execute_result"
    }
   ],
   "source": [
    "mnist"
   ]
  },
  {
   "cell_type": "code",
   "execution_count": 0,
   "metadata": {
    "colab": {},
    "colab_type": "code",
    "id": "rGwaGDon6e8i"
   },
   "outputs": [],
   "source": [
    "input_width=28\n",
    "input_height=28\n",
    "input_channels=1\n",
    "input_pixels=784\n",
    "\n",
    "n_conv1=32\n",
    "n_conv2=64\n",
    "stride_conv1=1\n",
    "stride_conv2=1\n",
    "conv1_k=5\n",
    "conv2_k=5\n",
    "maxpool1_k=2\n",
    "maxpool2_k=2\n",
    "\n",
    "n_hidden=1024\n",
    "n_output=10\n",
    "\n",
    "input_size_to_hidden_layer=(input_width//(maxpool1_k*maxpool2_k)) * (input_height//(maxpool1_k*maxpool2_k)) * n_conv2"
   ]
  },
  {
   "cell_type": "code",
   "execution_count": 0,
   "metadata": {
    "colab": {},
    "colab_type": "code",
    "id": "iyH2pHVT6e8p"
   },
   "outputs": [],
   "source": [
    "weights={\n",
    "    \"wc1\":tf.Variable(tf.random_normal([conv1_k,conv1_k,input_channels,n_conv1])),\n",
    "    \"wc2\":tf.Variable(tf.random_normal([conv2_k,conv2_k,n_conv1,n_conv2])),   #n_conv1 becomes the nuber of channels\n",
    "    \"wh1\":tf.Variable(tf.random_normal([input_size_to_hidden_layer,n_hidden])), \n",
    "    \"out\":tf.Variable(tf.random_normal([n_hidden,n_output]))\n",
    "  }\n",
    "\n",
    "biases={\n",
    "    'bc1':tf.Variable(tf.random_normal([n_conv1])),\n",
    "    'bc2':tf.Variable(tf.random_normal([n_conv2])),\n",
    "    'bh1':tf.Variable(tf.random_normal([n_hidden])),\n",
    "    'bo':tf.Variable(tf.random_normal([n_output])),\n",
    "}"
   ]
  },
  {
   "cell_type": "code",
   "execution_count": 0,
   "metadata": {
    "colab": {},
    "colab_type": "code",
    "id": "ZvgY3wOu6e8w"
   },
   "outputs": [],
   "source": [
    "def cnn(x,weights,biases,keep_probability):         #code for forward propagation\n",
    "    x=tf.reshape(x,shape=[-1,input_width,input_height,input_channels])\n",
    "    conv1=conv(x,weights['wc1'],biases['bc1'],stride_conv1)\n",
    "    conv1_pool=maxpooling(conv1,maxpool1_k)\n",
    "    conv2=conv(conv1_pool,weights['wc2'],biases['bc2'],stride_conv2)\n",
    "    conv2_pool=maxpooling(conv2,maxpool2_k)\n",
    "    \n",
    "    hidden_input=tf.reshape(conv2_pool,shape=[-1,input_size_to_hidden_layer])\n",
    "    hidden_output_before_activation=tf.add(tf.matmul(hidden_input,weights['wh1']),biases['bh1'])\n",
    "    hidden_output_before_dropout=tf.nn.relu(hidden_output_before_activation)\n",
    "    hidden_output=tf.nn.dropout(hidden_output_before_dropout,keep_probability)\n",
    "    #we are using identity activation function for output layer\n",
    "    output=tf.add(tf.matmul(hidden_output,weights['out']),biases['bo'])\n",
    "    \n",
    "    return output\n",
    "    "
   ]
  },
  {
   "cell_type": "code",
   "execution_count": 0,
   "metadata": {
    "colab": {},
    "colab_type": "code",
    "id": "uPxrISP46e80"
   },
   "outputs": [],
   "source": [
    "def conv(x,weight,bias,strides=1):\n",
    "    out=tf.nn.conv2d(x,weight,padding='SAME',strides=[1,strides,strides,1])\n",
    "    out=tf.nn.bias_add(out,bias)\n",
    "    out=tf.nn.relu(out)\n",
    "    return out\n",
    "\n",
    "def maxpooling(x,k=2):\n",
    "    return tf.nn.max_pool(x,padding=\"SAME\",ksize=[1,k,k,1], strides=[1,k,k,1])\n",
    "\n"
   ]
  },
  {
   "cell_type": "code",
   "execution_count": 0,
   "metadata": {
    "colab": {},
    "colab_type": "code",
    "id": "x-XL5AQ66e84"
   },
   "outputs": [],
   "source": [
    "x=tf.placeholder(\"float\",[None,input_pixels])  #2nd parameter is of shape, we know that coloumns are 784\n",
    "y=tf.placeholder(tf.int32,[None,n_output])        #int32 because our images have integars only 0-9\n",
    "keep_probability=tf.placeholder(\"float\")\n",
    "pred=cnn(x,weights,biases,keep_probability)"
   ]
  },
  {
   "cell_type": "code",
   "execution_count": 0,
   "metadata": {
    "colab": {},
    "colab_type": "code",
    "id": "28fgyM5v6e87"
   },
   "outputs": [],
   "source": [
    "cost=tf.reduce_mean(tf.nn.softmax_cross_entropy_with_logits_v2(logits=pred,labels=y))"
   ]
  },
  {
   "cell_type": "code",
   "execution_count": 0,
   "metadata": {
    "colab": {},
    "colab_type": "code",
    "id": "eab-GXOg6e8_"
   },
   "outputs": [],
   "source": [
    "optimizer=tf.train.AdamOptimizer(learning_rate=0.01)\n",
    "optimize=optimizer.minimize(cost)"
   ]
  },
  {
   "cell_type": "code",
   "execution_count": 0,
   "metadata": {
    "colab": {},
    "colab_type": "code",
    "id": "MhEpOVwI6e9E"
   },
   "outputs": [],
   "source": [
    "sess=tf.Session()\n",
    "sess.run(tf.global_variables_initializer())"
   ]
  },
  {
   "cell_type": "code",
   "execution_count": 12,
   "metadata": {
    "colab": {
     "base_uri": "https://localhost:8080/",
     "height": 457
    },
    "colab_type": "code",
    "id": "kMdWpvLe6e9K",
    "outputId": "c098ab44-a91c-4eaa-8039-95d95d2ada6f"
   },
   "outputs": [
    {
     "name": "stdout",
     "output_type": "stream",
     "text": [
      "1240055.9869561195\n",
      "26852.93487853557\n",
      "14730.625907872913\n",
      "11049.147435409928\n",
      "10300.727879573107\n",
      "9550.534168239308\n",
      "9839.744130756437\n",
      "9111.054878336461\n",
      "7067.859487171241\n",
      "9222.807227719892\n",
      "7699.520658216111\n",
      "5619.764661180927\n",
      "6676.402466848493\n",
      "5006.996409666891\n",
      "5468.277526299188\n",
      "4856.440849905695\n",
      "3817.6607206487006\n",
      "3564.4198024998336\n",
      "3024.798473127094\n",
      "3193.7805132726776\n",
      "3061.6307610346284\n",
      "2473.5269766822457\n",
      "2446.145207944237\n",
      "2180.393599972911\n",
      "1858.7178370924812\n"
     ]
    }
   ],
   "source": [
    "#will take lot of time\n",
    "batch_size=100\n",
    "for i in range(25):\n",
    "    num_batches=int(mnist.train.num_examples/batch_size)\n",
    "    total_cost=0\n",
    "    for j in range(num_batches):\n",
    "        batch_x,batch_y = mnist.train.next_batch(batch_size)\n",
    "        c,_=sess.run([cost,optimize],feed_dict={x:batch_x,y:batch_y,keep_probability:0.8})\n",
    "        total_cost+=c\n",
    "    print(total_cost)"
   ]
  },
  {
   "cell_type": "code",
   "execution_count": 13,
   "metadata": {
    "colab": {
     "base_uri": "https://localhost:8080/",
     "height": 34
    },
    "colab_type": "code",
    "id": "aXU0JlRV6e9Q",
    "outputId": "3122eaa3-2197-43d2-d219-58a1ebf522fd"
   },
   "outputs": [
    {
     "data": {
      "text/plain": [
       "9857"
      ]
     },
     "execution_count": 13,
     "metadata": {
      "tags": []
     },
     "output_type": "execute_result"
    }
   ],
   "source": [
    "predictions=tf.argmax(pred,1)\n",
    "true_labels=tf.argmax(y,1)\n",
    "correct_predictions=tf.equal(predictions,true_labels)\n",
    "predictions_eval,correct_pred=sess.run([predictions,correct_predictions],feed_dict={x:mnist.test.images,y:mnist.test.labels,keep_probability:1.0})\n",
    "correct_pred.sum()  "
   ]
  },
  {
   "cell_type": "code",
   "execution_count": null,
   "metadata": {},
   "outputs": [],
   "source": [
    "#all above can be done by using keras as well. Hint-Link in bookmarks(Medium)"
   ]
  }
 ],
 "metadata": {
  "colab": {
   "name": "CNN-MNIST1.ipynb",
   "provenance": [],
   "version": "0.3.2"
  },
  "kernelspec": {
   "display_name": "Python 3",
   "language": "python",
   "name": "python3"
  },
  "language_info": {
   "codemirror_mode": {
    "name": "ipython",
    "version": 3
   },
   "file_extension": ".py",
   "mimetype": "text/x-python",
   "name": "python",
   "nbconvert_exporter": "python",
   "pygments_lexer": "ipython3",
   "version": "3.7.3"
  }
 },
 "nbformat": 4,
 "nbformat_minor": 1
}
